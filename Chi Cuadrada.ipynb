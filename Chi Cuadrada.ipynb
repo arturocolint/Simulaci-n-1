{
  "nbformat": 4,
  "nbformat_minor": 0,
  "metadata": {
    "colab": {
      "provenance": [],
      "authorship_tag": "ABX9TyO9Q61ZE/3+kB7t28YYijoz",
      "include_colab_link": true
    },
    "kernelspec": {
      "name": "python3",
      "display_name": "Python 3"
    },
    "language_info": {
      "name": "python"
    }
  },
  "cells": [
    {
      "cell_type": "markdown",
      "metadata": {
        "id": "view-in-github",
        "colab_type": "text"
      },
      "source": [
        "<a href=\"https://colab.research.google.com/github/arturocolint/Simulaci-n-1/blob/main/Chi%20Cuadrada.ipynb\" target=\"_parent\"><img src=\"https://colab.research.google.com/assets/colab-badge.svg\" alt=\"Open In Colab\"/></a>"
      ]
    },
    {
      "cell_type": "code",
      "source": [
        "import pandas as pd\n",
        "import numpy as np\n",
        "from scipy.stats import chisquare\n",
        "\n",
        "def cargar_datos(nombre_archivo, hoja=0):\n",
        "    df = pd.read_excel(nombre_archivo, sheet_name=hoja)\n",
        "    datos = df.iloc[:, 0].values\n",
        "    return datos\n",
        "\n",
        "def prueba_chi_cuadrado(datos, bins=5):\n",
        "    frecuencias_observadas, _ = np.histogram(datos, bins=bins)\n",
        "\n",
        "    frecuencia_esperada = np.full_like(frecuencias_observadas, np.mean(frecuencias_observadas))\n",
        "\n",
        "    chi2, p_value = chisquare(frecuencias_observadas, frecuencia_esperada)\n",
        "\n",
        "    return chi2, p_value\n",
        "\n",
        "datos = cargar_datos(\"Muestra de numeros aleatorios.xlsx\")\n",
        "\n",
        "datos = datos[:25]\n",
        "\n",
        "chi2, p_value = prueba_chi_cuadrado(datos)\n",
        "\n",
        "print(f\"Chi-cuadrado: {chi2}\")\n",
        "print(f\"Valor p: {p_value}\")\n",
        "\n",
        "if p_value > 0.05:\n",
        "    print(\"No se rechaza la hipótesis nula: Los datos parecen seguir una distribución uniforme.\")\n",
        "else:\n",
        "    print(\"Se rechaza la hipótesis nula: Los datos no siguen una distribución uniforme.\")"
      ],
      "metadata": {
        "id": "xfZd0aLctXXn"
      },
      "execution_count": null,
      "outputs": []
    }
  ]
}