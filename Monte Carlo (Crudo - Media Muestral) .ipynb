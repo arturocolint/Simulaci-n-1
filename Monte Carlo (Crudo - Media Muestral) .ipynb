{
  "nbformat": 4,
  "nbformat_minor": 0,
  "metadata": {
    "colab": {
      "provenance": [],
      "authorship_tag": "ABX9TyMborxT5kEUFa/ORmd4PjNa",
      "include_colab_link": true
    },
    "kernelspec": {
      "name": "python3",
      "display_name": "Python 3"
    },
    "language_info": {
      "name": "python"
    }
  },
  "cells": [
    {
      "cell_type": "markdown",
      "metadata": {
        "id": "view-in-github",
        "colab_type": "text"
      },
      "source": [
        "<a href=\"https://colab.research.google.com/github/arturocolint/Simulaci-n-1/blob/main/Monte%20Carlo%20(Crudo%20-%20Media%20Muestral)%20.ipynb\" target=\"_parent\"><img src=\"https://colab.research.google.com/assets/colab-badge.svg\" alt=\"Open In Colab\"/></a>"
      ]
    },
    {
      "cell_type": "code",
      "source": [
        "# Arturo Colín Torres\n",
        "# Monte Carlo Crudo (Media Muestral)\n",
        "\n",
        "import numpy as np\n",
        "import random as rd"
      ],
      "metadata": {
        "id": "I_pS6_q_zQ2w"
      },
      "execution_count": 62,
      "outputs": []
    },
    {
      "cell_type": "code",
      "source": [
        "# Definir la funcion g(x)\n",
        "def g(x):\n",
        "  return np.sqrt(np.arctan(x))"
      ],
      "metadata": {
        "id": "jUaxIAA80hjn"
      },
      "execution_count": 100,
      "outputs": []
    },
    {
      "cell_type": "code",
      "source": [
        "# Definir parámetros de la distribución\n",
        "a, b = 0, 1\n",
        "N  = 1000000"
      ],
      "metadata": {
        "id": "IvJi4bhlzVFR"
      },
      "execution_count": 64,
      "outputs": []
    },
    {
      "cell_type": "code",
      "source": [
        "# Definir Monte Carlo\n",
        "def monte_carlo(a, b, N):\n",
        "# Generar n números aleatorios uniformes entre a y b\n",
        "  random_samples = np.random.uniform(a, b, N)\n",
        "  mean_value = np.mean(random_samples)\n",
        "  #Estimacion de la integral\n",
        "  I = (b-a) * mean_value\n",
        "  return I"
      ],
      "metadata": {
        "id": "ZwCgK2z00WPW"
      },
      "execution_count": 65,
      "outputs": []
    },
    {
      "cell_type": "code",
      "execution_count": 101,
      "metadata": {
        "colab": {
          "base_uri": "https://localhost:8080/"
        },
        "id": "u8EjgAtgvUKe",
        "outputId": "57dada6c-d12e-431f-8481-679c78693b6a"
      },
      "outputs": [
        {
          "output_type": "stream",
          "name": "stdout",
          "text": [
            "Estimacion de la integral: 0.49972803\n"
          ]
        }
      ],
      "source": [
        "#Estimación de la integral\n",
        "resultado=monte_carlo(a,b,N)\n",
        "print(f\"Estimacion de la integral: {resultado:.8f}\")\n"
      ]
    }
  ]
}