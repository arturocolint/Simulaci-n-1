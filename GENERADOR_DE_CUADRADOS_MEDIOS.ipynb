{
  "nbformat": 4,
  "nbformat_minor": 0,
  "metadata": {
    "colab": {
      "provenance": [],
      "authorship_tag": "ABX9TyMVNPRN4Ms+Wtq/sOk4CTgW",
      "include_colab_link": true
    },
    "kernelspec": {
      "name": "python3",
      "display_name": "Python 3"
    },
    "language_info": {
      "name": "python"
    }
  },
  "cells": [
    {
      "cell_type": "markdown",
      "metadata": {
        "id": "view-in-github",
        "colab_type": "text"
      },
      "source": [
        "<a href=\"https://colab.research.google.com/github/arturocolint/Simulaci-n-1/blob/main/GENERADOR_DE_CUADRADOS_MEDIOS.ipynb\" target=\"_parent\"><img src=\"https://colab.research.google.com/assets/colab-badge.svg\" alt=\"Open In Colab\"/></a>"
      ]
    },
    {
      "cell_type": "code",
      "source": [
        "import pandas as pd\n",
        "\n",
        "def generador_cuadrados_medios(semilla, n):\n",
        "    # Verifica que la semilla tenga una longitud adecuada\n",
        "    if len(str(semilla)) % 2 != 0:\n",
        "        raise ValueError(\"La semilla debe tener un número par de dígitos.\")\n",
        "\n",
        "    resultado = []\n",
        "    for _ in range(n):\n",
        "        # Eleva al cuadrado la semilla\n",
        "        cuadrado = semilla ** 2\n",
        "\n",
        "        # Convierte el cuadrado a una cadena de texto\n",
        "        cuadrado_str = str(cuadrado).zfill(8)  # Asegúrate de que tenga al menos 8 dígitos\n",
        "\n",
        "        # Toma los dígitos del medio\n",
        "        medio = int(cuadrado_str[2:6])\n",
        "\n",
        "        # Almacena el número generado\n",
        "        resultado.append((semilla, cuadrado, medio))\n",
        "\n",
        "        # Actualiza la semilla para la siguiente iteración\n",
        "        semilla = medio\n",
        "\n",
        "    # Crear DataFrame y mostrar la tabla\n",
        "    df = pd.DataFrame(resultado, columns=['Semilla', 'Cuadrado', 'Número generado'])\n",
        "    return df\n",
        "\n",
        "# Ejemplo de uso\n",
        "semilla_inicial = 1938  # Puedes cambiar la semilla inicial\n",
        "numeros_generados_df = generador_cuadrados_medios(semilla_inicial, 10)\n",
        "print(numeros_generados_df)\n"
      ],
      "metadata": {
        "colab": {
          "base_uri": "https://localhost:8080/"
        },
        "id": "wadAFQQsoZgg",
        "outputId": "5c65b247-74f9-45c7-e539-36b0a7bb7659"
      },
      "execution_count": 6,
      "outputs": [
        {
          "output_type": "stream",
          "name": "stdout",
          "text": [
            "   Semilla  Cuadrado  Número generado\n",
            "0     1938   3755844             7558\n",
            "1     7558  57123364             1233\n",
            "2     1233   1520289             5202\n",
            "3     5202  27060804              608\n",
            "4      608    369664             3696\n",
            "5     3696  13660416             6604\n",
            "6     6604  43612816             6128\n",
            "7     6128  37552384             5523\n",
            "8     5523  30503529             5035\n",
            "9     5035  25351225             3512\n"
          ]
        }
      ]
    }
  ]
}