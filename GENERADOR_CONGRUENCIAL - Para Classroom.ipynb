{
  "nbformat": 4,
  "nbformat_minor": 0,
  "metadata": {
    "colab": {
      "provenance": [],
      "authorship_tag": "ABX9TyMTV/6pYMz/uZgNvR23bY8r",
      "include_colab_link": true
    },
    "kernelspec": {
      "name": "python3",
      "display_name": "Python 3"
    },
    "language_info": {
      "name": "python"
    }
  },
  "cells": [
    {
      "cell_type": "markdown",
      "metadata": {
        "id": "view-in-github",
        "colab_type": "text"
      },
      "source": [
        "<a href=\"https://colab.research.google.com/github/arturocolint/Simulaci-n-1/blob/main/GENERADOR_CONGRUENCIAL%20-%20Para%20Classroom.ipynb\" target=\"_parent\"><img src=\"https://colab.research.google.com/assets/colab-badge.svg\" alt=\"Open In Colab\"/></a>"
      ]
    },
    {
      "cell_type": "code",
      "source": [
        "#PROGRAMA PARA GENERAR NUMEROS ALEATORIOS POR MEDIO DEL \"GENERADOR CONGRUENCIAL\"\n",
        "# Colín Torres Arturo\n",
        "#7MM1\n",
        "\n",
        "# El programa que se presenta con la forma en como estan declarados los\n",
        "# parametros del generador es para agregar cualquier valor deseado para el\n",
        "# generador de numeros segun parametros específicos dados.\n",
        "\n",
        "# De igual manera permite tabular dichos numeros para un mejor orden, aunque no\n",
        "# señala directamente el ciclo de vida, solo es necesario tomar en cuenta el\n",
        "# valor dado para \"m\" y en la tabla notar si el generador de numeros cumple\n",
        "# correctamente con el ciclo de vida indicado por el problema en cuestión.\n",
        "\n",
        "import matplotlib.pyplot as plt\n",
        "from tabulate import tabulate\n",
        "\n",
        "# Parámetros del generador\n",
        "a = a\n",
        "c = c\n",
        "m = m\n",
        "x0 = x0\n",
        "\n",
        "# Función para generar números con el método de congruencia lineal\n",
        "def generador_congruenciaL(a, c, m, x0, n):\n",
        "    numeros = []\n",
        "    lista = []  # Lista para almacenar los valores normalizados\n",
        "    for i in range(n):\n",
        "        x = (a * x0 + c) % m\n",
        "        normalizado = x / m\n",
        "        numeros.append([i + 1, x0, normalizado])\n",
        "        lista.append(normalizado)  # Guardamos en la lista para graficar\n",
        "        x0 = x\n",
        "    return numeros, lista\n",
        "\n",
        "# Número de iteraciones\n",
        "n = 1000\n",
        "resultados, lista = generador_congruenciaL(a, c, m, x0, n)\n",
        "\n",
        "# Imprimir tabla de números generados\n",
        "headers = [\"Iteración\", \"Semilla\", \"Valor Normalizado\"]\n",
        "print(\"Tabla de números generados\")\n",
        "print(tabulate(resultados, headers=headers, tablefmt=\"pretty\"))\n",
        "\n",
        "# Imprimir lista de números generados\n",
        "print(\"Lista de números generados:\")\n",
        "for num in lista:\n",
        "    print(num)\n",
        "\n",
        "# Graficar los valores normalizados\n",
        "plt.plot(lista, marker='o', linestyle='-', color='b', markersize=2)\n",
        "plt.xlabel(\"Iteración\")\n",
        "plt.ylabel(\"Valor Normalizado\")\n",
        "plt.title(\"Generador Congruencial Lineal\")\n",
        "plt.grid()\n",
        "plt.show()"
      ],
      "metadata": {
        "id": "JUMO6fja4mRG"
      },
      "execution_count": null,
      "outputs": []
    }
  ]
}