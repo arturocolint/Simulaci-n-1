{
  "nbformat": 4,
  "nbformat_minor": 0,
  "metadata": {
    "colab": {
      "provenance": [],
      "authorship_tag": "ABX9TyNLQGW0n7rjORFZ8ss83pZ8",
      "include_colab_link": true
    },
    "kernelspec": {
      "name": "python3",
      "display_name": "Python 3"
    },
    "language_info": {
      "name": "python"
    }
  },
  "cells": [
    {
      "cell_type": "markdown",
      "metadata": {
        "id": "view-in-github",
        "colab_type": "text"
      },
      "source": [
        "<a href=\"https://colab.research.google.com/github/arturocolint/Simulaci-n-1/blob/main/KS.ipynb\" target=\"_parent\"><img src=\"https://colab.research.google.com/assets/colab-badge.svg\" alt=\"Open In Colab\"/></a>"
      ]
    },
    {
      "cell_type": "code",
      "execution_count": null,
      "metadata": {
        "id": "yh9DOceAvxPx"
      },
      "outputs": [],
      "source": [
        "import pandas as pd\n",
        "import numpy as np\n",
        "from scipy.stats import kstest\n",
        "\n",
        "df = pd.read_excel('Muestra de numeros aleatorios.xlsx')\n",
        "\n",
        "data = df.iloc[:25].values.flatten()\n",
        "\n",
        "ks_statistic, p_value = kstest(data, 'uniform', args=(np.min(data), np.max(data) - np.min(data)))\n",
        "\n",
        "print(f'Estadístico K-S: {ks_statistic}')\n",
        "print(f'Valor p: {p_value}')\n",
        "\n",
        "if p_value < 0.05:\n",
        "    print('Rechazamos la hipótesis nula: los datos no siguen una distribución uniforme.')\n",
        "else:\n",
        "    print('No rechazamos la hipótesis nula: los datos siguen una distribución uniforme.')\n"
      ]
    }
  ]
}