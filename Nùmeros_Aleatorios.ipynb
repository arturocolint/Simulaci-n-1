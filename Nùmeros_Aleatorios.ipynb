{
  "nbformat": 4,
  "nbformat_minor": 0,
  "metadata": {
    "colab": {
      "provenance": [],
      "authorship_tag": "ABX9TyPMpUwTmGpCiNWShfcOTvaY",
      "include_colab_link": true
    },
    "kernelspec": {
      "name": "python3",
      "display_name": "Python 3"
    },
    "language_info": {
      "name": "python"
    }
  },
  "cells": [
    {
      "cell_type": "markdown",
      "metadata": {
        "id": "view-in-github",
        "colab_type": "text"
      },
      "source": [
        "<a href=\"https://colab.research.google.com/github/arturocolint/Simulaci-n-1/blob/main/N%C3%B9meros_Aleatorios.ipynb\" target=\"_parent\"><img src=\"https://colab.research.google.com/assets/colab-badge.svg\" alt=\"Open In Colab\"/></a>"
      ]
    },
    {
      "cell_type": "code",
      "source": [
        "from tabulate import tabulate\n",
        "a=4\n",
        "c=7\n",
        "m=22\n",
        "x0=3\n",
        "def generador_congruenciaL (a, c, m, x0, n):\n",
        "  numeros = []\n",
        "  for i in range (n):\n",
        "    x=(a*x0+c)%m\n",
        "    numeros.append([i+1, x0, x/m])\n",
        "    x0 = x\n",
        "  return numeros\n",
        "\n",
        "n = 10\n",
        "resultados = generador_congruenciaL(a, c ,m ,x0, n)\n",
        "\n",
        "headers = [\"Iteracion\",\"Semilla\", \"Valor Normalizado\"]\n",
        "print (\"Tabla de numeros generados\")\n",
        "print (tabulate(resultados, headers=headers, tablefmt=\"pretty\"))\n",
        "print(\"Lista de numeros generados\")\n",
        "for num in resultados:\n",
        "  print(num)"
      ],
      "metadata": {
        "colab": {
          "base_uri": "https://localhost:8080/"
        },
        "id": "ZBIb-PpIk7MK",
        "outputId": "a70b6544-4618-42a9-f07f-767d0c8bee19"
      },
      "execution_count": 14,
      "outputs": [
        {
          "output_type": "stream",
          "name": "stdout",
          "text": [
            "Tabla de numeros generados\n",
            "+-----------+---------+---------------------+\n",
            "| Iteracion | Semilla |  Valor Normalizado  |\n",
            "+-----------+---------+---------------------+\n",
            "|     1     |    3    | 0.8636363636363636  |\n",
            "|     2     |   19    | 0.7727272727272727  |\n",
            "|     3     |   17    | 0.4090909090909091  |\n",
            "|     4     |    9    | 0.9545454545454546  |\n",
            "|     5     |   21    | 0.13636363636363635 |\n",
            "|     6     |    3    | 0.8636363636363636  |\n",
            "|     7     |   19    | 0.7727272727272727  |\n",
            "|     8     |   17    | 0.4090909090909091  |\n",
            "|     9     |    9    | 0.9545454545454546  |\n",
            "|    10     |   21    | 0.13636363636363635 |\n",
            "+-----------+---------+---------------------+\n",
            "Lista de numeros generados\n",
            "[1, 3, 0.8636363636363636]\n",
            "[2, 19, 0.7727272727272727]\n",
            "[3, 17, 0.4090909090909091]\n",
            "[4, 9, 0.9545454545454546]\n",
            "[5, 21, 0.13636363636363635]\n",
            "[6, 3, 0.8636363636363636]\n",
            "[7, 19, 0.7727272727272727]\n",
            "[8, 17, 0.4090909090909091]\n",
            "[9, 9, 0.9545454545454546]\n",
            "[10, 21, 0.13636363636363635]\n"
          ]
        }
      ]
    }
  ]
}