{
  "nbformat": 4,
  "nbformat_minor": 0,
  "metadata": {
    "colab": {
      "provenance": [],
      "authorship_tag": "ABX9TyMPRqmoJ/OxW01aXYPma/Cs",
      "include_colab_link": true
    },
    "kernelspec": {
      "name": "python3",
      "display_name": "Python 3"
    },
    "language_info": {
      "name": "python"
    }
  },
  "cells": [
    {
      "cell_type": "markdown",
      "metadata": {
        "id": "view-in-github",
        "colab_type": "text"
      },
      "source": [
        "<a href=\"https://colab.research.google.com/github/arturocolint/Simulaci-n-1/blob/main/Problema%20del%20periodico.ipynb\" target=\"_parent\"><img src=\"https://colab.research.google.com/assets/colab-badge.svg\" alt=\"Open In Colab\"/></a>"
      ]
    },
    {
      "cell_type": "code",
      "execution_count": 3,
      "metadata": {
        "colab": {
          "base_uri": "https://localhost:8080/"
        },
        "id": "GSPdYjHk3558",
        "outputId": "5a9c389f-6c44-423f-f631-836f3cd3956e"
      },
      "outputs": [
        {
          "output_type": "stream",
          "name": "stdout",
          "text": [
            "Distribución acumulativa: [0.2  0.45 0.7  0.9  1.  ]\n",
            "Beneficio promedio diario: 1.4 Euros\n"
          ]
        }
      ],
      "source": [
        "import numpy as np\n",
        "\n",
        "# Definiendo los datos\n",
        "ventas = np.array([30, 40, 50, 60, 70])  # Ventas posibles\n",
        "probabilidades = np.array([0.2, 0.25, 0.25, 0.2, 0.1])  # Probabilidad por venta\n",
        "\n",
        "# CSe construye la distribucion acumulativa\n",
        "prob_acumulada = np.cumsum(probabilidades)\n",
        "\n",
        "# Definimos costos y precios\n",
        "PV = 1.10 # Precio de venta\n",
        "CP = 0.90 # Costo del Periodico\n",
        "CPe = 0.20  # Costo por cada venta perdida\n",
        "Re = 0.10  # Por reciclaje de periódicos no vendidos\n",
        "stock = 50  # Cantidad de periódicos pedidos diariamente\n",
        "\n",
        "# Calculamos el beneficio esperado\n",
        "def calcular_beneficio(ventas, probabilidades, stock, PV, CP, CPe, Re):\n",
        "    beneficio_esperado = 0\n",
        "    for v, p in zip(ventas, probabilidades):\n",
        "        ingresos = min(v, stock) * PV  # Lo que se logra vender\n",
        "        costo_compra = stock * CP  # Costo de compra\n",
        "        costo_falta = max(0, v - stock) * CPe  # Pérdida por ventas no atendidas\n",
        "        costo_sobrante = max(0, stock - v) * Re  # Costo de reciclaje\n",
        "\n",
        "        beneficio = ingresos - costo_compra - costo_falta - costo_sobrante\n",
        "        beneficio_esperado += beneficio * p  # Promedio ponderado\n",
        "\n",
        "    return beneficio_esperado\n",
        "\n",
        "beneficio_promedio = calcular_beneficio(ventas, probabilidades, stock, PV, CP, CPe, Re)\n",
        "\n",
        "# Mostramos los resultados\n",
        "print(\"Distribución acumulativa:\", prob_acumulada)\n",
        "print(\"Beneficio promedio diario:\", round(beneficio_promedio, 2), \"Euros\")\n"
      ]
    }
  ]
}